{
  "nbformat": 4,
  "nbformat_minor": 0,
  "metadata": {
    "colab": {
      "provenance": []
    },
    "kernelspec": {
      "name": "python3",
      "display_name": "Python 3"
    },
    "language_info": {
      "name": "python"
    }
  },
  "cells": [
    {
      "cell_type": "markdown",
      "source": [
        "<h1><center>Instituto Politécnico Nacional</center><h1>\n",
        "<h2><center>Escuela Superior de Cómputo</center></h2>\n",
        "<h2><center>Práctica 2</center></h2>\n",
        "<h3><center> Materia: Teoría de la computación</center></h3>\n",
        "\n",
        "**Integrantes:**\n",
        "\n",
        "- Ortega Prado Mauricio\n",
        "- Valentin Ramos Emmanuel Guadalupe"
      ],
      "metadata": {
        "id": "9nXgkshkBdsb"
      }
    },
    {
      "cell_type": "code",
      "source": [
        "# Código de ayuda Funciones \n",
        "\n",
        "def leerCadenaValida(alfabeto):\n",
        "  isValida = False\n",
        "  cadena = input(\"Ingresa la cadena a validar: \")\n",
        "  while not isValida:\n",
        "    if set(cadena).issubset(alfabeto):\n",
        "      isValida = True\n",
        "    else:\n",
        "      print(\"Cadena no válida. Intenta de nuevo\")\n",
        "      cadena = input(\"Ingresa la cadena a validar: \")\n",
        "\n",
        "  return cadena\n",
        "\n",
        "def validarCadena(automata, estado_inicial, estados_aceptacion, cadena):\n",
        "  estado = estado_inicial\n",
        "  for char in cadena:\n",
        "    # print(estado)\n",
        "    estado = automata[estado][char]\n",
        "  return estado in estados_aceptacion"
      ],
      "metadata": {
        "id": "kmUWajiz4aor"
      },
      "execution_count": null,
      "outputs": []
    },
    {
      "cell_type": "markdown",
      "source": [
        "1. Diseñar una AFD que acepte un número real. El AFD debe aceptar\n",
        "notación exponencial. Como base de diseño se puede tomar el\n",
        "siguiente diagrama:\n",
        "\n",
        "![automata-a](https://raw.githubusercontent.com/emmagp3/tc-images/main/automata-a/automata-a.jpg)\n",
        " "
      ],
      "metadata": {
        "id": "sTFdpNZ-DOir"
      }
    },
    {
      "cell_type": "code",
      "execution_count": null,
      "metadata": {
        "id": "AluqatxgBaBf"
      },
      "outputs": [],
      "source": [
        "alfabeto = {\"0\", \"1\", \"2\", \"3\", \"4\", \"5\", \"6\", \"7\", \"8\", \"9\", \"+\", \"-\", \".\", \"e\", \"E\"}\n",
        "cadena = leerCadenaValida(alfabeto)\n",
        "\n",
        "automata = {\n",
        "    1: {'0': 2, '1': 2, '2': 2, '3': 2, '4': 2, '5': 2, '6': 2, '7': 2, '8': 2, '8': 2, '+': 2, '-': 2, '.': 8, 'e': 8, 'E': 8},\n",
        "    2: {'0': 2, '1': 2, '2': 2, '3': 2, '4': 2, '5': 2, '6': 2, '7': 2, '8': 2, '8': 2, '+': 8, '-': 8, '.': 3, 'e': 5, 'E': 5},\n",
        "    3: {'E': 8, 'e': 8, '+': 8, '-': 8, '.': 8, '0': 4, '1': 4, '2': 4, '3': 4, '4': 4, '5': 4, '6': 4, '7': 4, '8': 4, '8': 4},\n",
        "    4: {'0': 4, '1': 4, '2': 4, '3': 4, '4': 4, '5': 4, '6': 4, '7': 4, '8': 4, '8': 4, '+': 8, '-': 8, '.': 8, 'e': 5, 'E': 5},\n",
        "    5: {'0': 7, '1': 7, '2': 7, '3': 7, '4': 7, '5': 7, '6': 7, '7': 7, '8': 7, '8': 7, '+': 6, '-': 6, '.': 8, 'e': 8, 'E': 8},\n",
        "    6: {'0': 7, '1': 7, '2': 7, '3': 7, '4': 7, '5': 7, '6': 7, '7': 7, '8': 7, '8': 7, 'E': 8, 'e': 8, '.': 8, '-': 8, '+': 8},\n",
        "    7: {'0': 7, '1': 7, '2': 7, '3': 7, '4': 7, '5': 7, '6': 7, '7': 7, '8': 7, '8': 7, 'E': 8, 'e': 8, '.': 8, '-': 8, '+': 8},\n",
        "    8: {'0': 8, '1': 8, '2': 8, '3': 8, '4': 8, '5': 8, '6': 8, '7': 8, '8': 8, '8': 8, 'E': 8, 'e': 8, '.': 8, '-': 8, '+': 8},\n",
        "}\n",
        "\n",
        "print(\"Cadena valida\" if validarCadena(automata, 1, {2, 4, 7}, cadena) else \"Cadena no válida\")"
      ]
    },
    {
      "cell_type": "markdown",
      "source": [
        "2. Con base en el alfabeto de entrada $\\Sigma = \\{0, 1\\}$, implementar un AFD que reconozca el lenguaje formado por cadenas que contengan un número par  de  símbolos 0,  y  sin  símbolos 1  sucesivos.  Ejemplos  de  cadenas aceptadas:  00,  0101010,  0000001010,  etc.;  ejemplos  de  cadenas  no aceptadas:  0,  0011,  01010,  etc. Nota:  la  longitud  de  las  cadenas  es variable.\n",
        "\n",
        "![automata-b](https://raw.githubusercontent.com/emmagp3/tc-images/main/automata-b/automata-b.jpg)"
      ],
      "metadata": {
        "id": "t4s_HXQskH_C"
      }
    },
    {
      "cell_type": "code",
      "source": [
        "# El alfabeto para construir el automata\n",
        "alfabeto = {\"0\", \"1\"}\n",
        "cadena = leerCadenaValida(alfabeto)\n",
        "\n",
        "# Construcción del autómata\n",
        "automata = {\n",
        "    # {transición: estado, ...}\n",
        "    0: {'0': 1, '1': 3},\n",
        "    1: {'0': 2, '1': 5},\n",
        "    2: {'0': 4, '1': 3},\n",
        "    3: {'0': 1, '1': 6},\n",
        "    4: {'0': 2, '1': 5},\n",
        "    5: {'0': 2, '1': 6},\n",
        "    6: {'0': 6, '1': 6}\n",
        "}\n",
        "\n",
        "print(\"Cadena valida\" if validarCadena(automata, 0, {2, 3}, cadena) else \"Cadena no válida\")"
      ],
      "metadata": {
        "id": "zBkVQqBjkKZe"
      },
      "execution_count": null,
      "outputs": []
    },
    {
      "cell_type": "markdown",
      "source": [
        "3. Implementa un AFD que acepte cadenas que contengan dos o más símbolos consecutivos iguales, para el alfabeto $\\Sigma = \\{a, b, c, d\\}$. Ejemplos de cadenas aceptadas: abbo, caaadab, bbbbadcc, cc, abcdddd, ababaccabab, aaaa, bbbbbb, etc. Nota: la longitud de las cadenas es variable.\n",
        "\n",
        "![automata-c](https://raw.githubusercontent.com/emmagp3/tc-images/main/automata-c/automata-c.jpg)"
      ],
      "metadata": {
        "id": "-Z4yqEYePY97"
      }
    },
    {
      "cell_type": "code",
      "source": [
        "alfabeto = {\"a\",\"b\",\"c\",\"d\"}\n",
        "cadena = leerCadenaValida(alfabeto)\n",
        "\n",
        "automata = {\n",
        "    0: {\"a\": 1, \"b\": 2, \"c\": 3, \"d\": 4},\n",
        "    1: {\"a\": 5, \"b\": 2, \"c\": 3, \"d\": 4},\n",
        "    2: {\"a\": 1, \"b\": 5, \"c\": 3, \"d\": 4},\n",
        "    3: {\"a\": 1, \"b\": 2, \"c\": 5, \"d\": 4},\n",
        "    4: {\"a\": 1, \"b\": 2, \"c\": 3, \"d\": 5},\n",
        "    5: {\"a\": 5, \"b\": 5, \"c\": 5, \"d\": 5}\n",
        "\n",
        "}\n",
        "print(\"Cadena valida\" if validarCadena(automata, 0, {5}, cadena) else \"Cadena no válida\")"
      ],
      "metadata": {
        "id": "khlytQpiPtFY"
      },
      "execution_count": null,
      "outputs": []
    },
    {
      "cell_type": "markdown",
      "source": [
        "4. Para que una contraseña sea segura se recomienda el utilizar por lo menos 6 caracteres, de estos caracteres deben de iniciar con letras 2 letras de las vocales, una mayúscula y otra minúscula, no importa el orden de estas, también debe tener dos números del 0 al 5 y dos de los siguientes caracteres: ¡@#, tanto números como caracteres es indiferente el orden.\n",
        "\n",
        "![automata-personalizado](https://raw.githubusercontent.com/emmagp3/tc-images/main/automata-personalizado/automata-personalizado.jpg)"
      ],
      "metadata": {
        "id": "dVKWk7Drrl2y"
      }
    },
    {
      "cell_type": "code",
      "source": [
        "alfabeto = {\"a\",\"e\",\"i\",\"o\",\"u\",\"A\",\"E\",\"I\",\"O\",\"U\",\"!\",\"@\",\"#\",\"0\",\"1\",\"2\",\"3\",\"4\",\"5\"}\n",
        "cadena = leerCadenaValida(alfabeto)\n",
        "\n",
        "automata = {\n",
        "    0: {\"a\":1,\"e\":1,\"i\":1,\"o\":1,\"u\":1,\"A\":3,\"E\":3,\"I\":3,\"O\":3,\"U\":3,\"!\":3,\"@\":4,\"#\":4,\"0\":4,\"1\":4,\"2\":4,\"3\":4,\"4\":4,\"5\":4},\n",
        "    1: {\"a\":4,\"e\":4,\"i\":4,\"o\":4,\"u\":4,\"A\":2,\"E\":2,\"I\":2,\"O\":2,\"U\":2,\"!\":4,\"@\":4,\"#\":4,\"0\":4,\"1\":4,\"2\":4,\"3\":4,\"4\":4,\"5\":4},\n",
        "    2: {\"a\":4,\"e\":4,\"i\":4,\"o\":4,\"u\":4,\"A\":4,\"E\":4,\"I\":4,\"O\":4,\"U\":4,\"!\":6,\"@\":6,\"#\":6,\"0\":5,\"1\":5,\"2\":5,\"3\":5,\"4\":5,\"5\":5},\n",
        "    3: {\"a\":2,\"e\":2,\"i\":2,\"o\":2,\"u\":2,\"A\":4,\"E\":4,\"I\":4,\"O\":4,\"U\":4,\"!\":4,\"@\":4,\"#\":4,\"0\":4,\"1\":4,\"2\":4,\"3\":4,\"4\":4,\"5\":4},\n",
        "    4: {\"a\":4,\"e\":4,\"i\":4,\"o\":4,\"u\":4,\"A\":4,\"E\":4,\"I\":4,\"O\":4,\"U\":4,\"!\":4,\"@\":4,\"#\":4,\"0\":4,\"1\":4,\"2\":4,\"3\":4,\"4\":4,\"5\":4},\n",
        "    5: {\"a\":4,\"e\":4,\"i\":4,\"o\":4,\"u\":4,\"A\":4,\"E\":4,\"I\":4,\"O\":4,\"U\":4,\"!\":9,\"@\":9,\"#\":9,\"0\":7,\"1\":7,\"2\":7,\"3\":7,\"4\":7,\"5\":7},\n",
        "    6: {\"a\":4,\"e\":4,\"i\":4,\"o\":4,\"u\":4,\"A\":4,\"E\":4,\"I\":4,\"O\":4,\"U\":4,\"!\":11,\"@\":11,\"#\":11,\"0\":9,\"1\":9,\"2\":9,\"3\":9,\"4\":9,\"5\":9},\n",
        "    7: {\"a\":4,\"e\":4,\"i\":4,\"o\":4,\"u\":4,\"A\":4,\"E\":4,\"I\":4,\"O\":4,\"U\":4,\"!\":8,\"@\":8,\"#\":8,\"0\":8,\"1\":4,\"2\":4,\"3\":4,\"4\":4,\"5\":4},\n",
        "    8: {\"a\":4,\"e\":4,\"i\":4,\"o\":4,\"u\":4,\"A\":4,\"E\":4,\"I\":4,\"O\":4,\"U\":4,\"!\":13,\"@\":13,\"#\":13,\"0\":4,\"1\":4,\"2\":4,\"3\":4,\"4\":4,\"5\":4},\n",
        "    9: {\"a\":4,\"e\":4,\"i\":4,\"o\":4,\"u\":4,\"A\":4,\"E\":4,\"I\":4,\"O\":4,\"U\":4,\"!\":10,\"@\":10,\"#\":10,\"0\":8,\"1\":8,\"2\":8,\"3\":8,\"4\":8,\"5\":8},\n",
        "    10: {\"a\":4,\"e\":4,\"i\":4,\"o\":4,\"u\":4,\"A\":4,\"E\":4,\"I\":4,\"O\":4,\"U\":4,\"!\":4,\"@\":4,\"#\":4,\"0\":13,\"1\":13,\"2\":13,\"3\":13,\"4\":13,\"5\":13},\n",
        "    11: {\"a\":4,\"e\":4,\"i\":4,\"o\":4,\"u\":4,\"A\":4,\"E\":4,\"I\":4,\"O\":4,\"U\":4,\"!\":4,\"@\":4,\"#\":4,\"0\":12,\"1\":12,\"2\":12,\"3\":12,\"4\":12,\"5\":12},\n",
        "    12: {\"a\":4,\"e\":4,\"i\":4,\"o\":4,\"u\":4,\"A\":4,\"E\":4,\"I\":4,\"O\":4,\"U\":4,\"!\":4,\"@\":4,\"#\":4,\"0\":13,\"1\":13,\"2\":13,\"3\":13,\"4\":13,\"5\":13},\n",
        "    13: {\"a\":4,\"e\":4,\"i\":4,\"o\":4,\"u\":4,\"A\":4,\"E\":4,\"I\":4,\"O\":4,\"U\":4,\"!\":4,\"@\":4,\"#\":4,\"0\":4,\"1\":4,\"2\":4,\"3\":4,\"4\":4,\"5\":4}\n",
        "}\n",
        "\n",
        "print(\"contraseña valida\" if validarCadena(automata, 0, {13}, cadena) else \"contraseña no válida\")"
      ],
      "metadata": {
        "id": "VNP_C3_nf7aQ"
      },
      "execution_count": null,
      "outputs": []
    }
  ]
}